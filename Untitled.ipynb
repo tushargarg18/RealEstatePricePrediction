{
 "cells": [
  {
   "cell_type": "code",
   "execution_count": 7,
   "id": "752450a4-8f3a-4f41-8902-7e55d7ade6d2",
   "metadata": {},
   "outputs": [],
   "source": [
    "import pandas as pd\n",
    "import matplotlib"
   ]
  },
  {
   "cell_type": "code",
   "execution_count": 34,
   "id": "2832aede-f748-4b5d-802a-cd0873582ecf",
   "metadata": {},
   "outputs": [
    {
     "data": {
      "text/plain": [
       "array([\"Best 4 BHK Apartment for modern-day lifestyle is now available for sale. No brokerage involved, Posted by Owner. Grab this 4 BHK property for sale in one of Chennai's top location, Kanathur Reddikuppam. It is situated on floor 13. The total number of floors in this Apartment is 14. The property price of this unit is Rs 1.99 Cr. The built-up area is 2583 Square feet. There are 4 bedrooms and 4 bathroom. It is an ideal location for young families with kids, as this property is close to Mount Litera Zee School, OMR, Chennai, Amelio Early Education - Siruseri, and Chennai Mathematical Institute. H...\",\n",
       "       \"Looking for a 10 BHK Independent House for sale in Chennai? Your search ends here. Buy this 10 BHK property in Chennai's finest location, Pozhichalur. This is an owner listed property and there is no brokerage involved. This Independent House is available at a reasonable price of Rs 2.25 Cr. Maintenance charges in this property is Rs 2000. The built up area of this property is 7000 Square feet. It is spacious for a family and this property has a carpet area of 500 Square feet. There are 10 bedrooms and 9 bathroom. There are a number of reputed schools in the vicinity such as Peace On Green Ear...\",\n",
       "       \"Property for sale in Tambaram, Chennai. This 3 BHK Apartment is located in Chennai's most promising location. This property is posted by owner and there is no brokerage involved. It is on floor 1. The total number of floors in this building is 2. This Apartment's price is Rs 1.0 Cr. The built-up area is 1320 Square feet. The property has 3 bedrooms and 2 bathroom. This Apartment is strategically located within close distance of famous healthcare centres such as Hindu Mission Hospital, Annai Arul Hospital, and Kasthuri Hospital. Schools like INNOVATION ACADEMY, T.I.M.E. Kids Preschool- Tambaram...\",\n",
       "       ...,\n",
       "       \"Property for sale in Geeta Colony, Delhi. This 1 BHK Apartment is located in Delhi's most promising location. This property is posted by owner and there is no brokerage involved. It is on floor 1. The total number of floors in this building is 3. This Apartment's price is Rs 30.0 L. Homebuyers will also need to pay Rs 0 towards maintenance. The built-up area is 378 Square feet. This Apartment is strategically located within close distance of famous healthcare centres such as Indraprastha Apollo Hospital, Radix Healthcare, and Chacha Nehru Bal Chikitsalaya. Schools like S G S School No. 2, St. ...\",\n",
       "       \"Check out this 3 BHK Apartment for sale in Rohini, Delhi. This property is posted by owner and thus there is no need to pay any broker amount. This 3 BHK Apartment is perfect for a modern-day lifestyle. Rohini is a promising location in Delhi and this is one of the finest properties in the area. Buy this Apartment for sale now. It is located on floor 2. The total number of floors in this project is 3. The property's price is Rs 60.0 L. This property is a modern-day abode, with 700 Square feet built-up area. The unit has 3 bedrooms and 2 bathroom. Educational institutions are closeby with schoo...\",\n",
       "       \"This is an independent DDA house(in raw condition),which can be constructed upto 4 floors More About This Property Looking for a good 1 RK Independent House in Rohini, Delhi? This property is in one of Delhi's most popular locations. This is a no brokerage property. Maintenance charges of this property is Rs 1. This Independent House is available for Rs 55.0 L. This modern unit has a built-up area of 344 Square feet. There are 1 bedroom and 1 bathroom. It is very close to some of city's best hospitals, such as, Jaipur Golden Hospital, Dr. Baba Saheb Ambedkar Hospital, and Centre for Sight Eye ...\"],\n",
       "      dtype=object)"
      ]
     },
     "execution_count": 34,
     "metadata": {},
     "output_type": "execute_result"
    }
   ],
   "source": [
    "df1 = pd.read_csv('Real Estate Data V21.csv')\n",
    "df1.head(5)\n",
    "df1['Description'].unique()"
   ]
  },
  {
   "cell_type": "code",
   "execution_count": 15,
   "id": "ace2349f-5a67-45fd-8354-3d3361cfa8fa",
   "metadata": {},
   "outputs": [
    {
     "data": {
      "text/plain": [
       "(14528, 9)"
      ]
     },
     "execution_count": 15,
     "metadata": {},
     "output_type": "execute_result"
    }
   ],
   "source": [
    "df1.shape"
   ]
  },
  {
   "cell_type": "code",
   "execution_count": 17,
   "id": "f99c875c-39a4-42fe-bd44-3d22f9a0a1dc",
   "metadata": {},
   "outputs": [
    {
     "data": {
      "text/plain": [
       "Location\n",
       "    Madhurangan Apartment ,Ambegaon, Pune                                  1\n",
       "   Manganahalli    Sriram Layout ,Ullal Uppanagar, Bangalore               1\n",
       "   sona Building,Bhayandar West, Mumbai                                    1\n",
       "  Sec 2 Pooja apartment Bhosari ,Indrayani Nagar Sector 2, Bhosari,Pune    1\n",
       " A N SWAGATH,Gubbalala, Subramanyapura,Bangalore                           1\n",
       "                                                                          ..\n",
       "west hills,Suriyammapet, Saidapet,Chennai                                  1\n",
       "wind apartment ,New Ballygunge, Kasba,Kolkata                              1\n",
       "yadari,Devasthanagalu, Varthur,Bangalore                                   1\n",
       "yamuna sadan,Vishwakarma Colony, Pul Prahlad Pur,New Delhi                 1\n",
       "yesh homes,Nemilichery, Chromepet,Chennai                                  1\n",
       "Name: Location, Length: 7050, dtype: int64"
      ]
     },
     "execution_count": 17,
     "metadata": {},
     "output_type": "execute_result"
    }
   ],
   "source": [
    "df1.groupby('Location')['Location'].agg('count')"
   ]
  },
  {
   "cell_type": "code",
   "execution_count": 21,
   "id": "e09eca62-6d32-42a8-9f0f-a58ac03f1288",
   "metadata": {},
   "outputs": [
    {
     "data": {
      "text/html": [
       "<div>\n",
       "<style scoped>\n",
       "    .dataframe tbody tr th:only-of-type {\n",
       "        vertical-align: middle;\n",
       "    }\n",
       "\n",
       "    .dataframe tbody tr th {\n",
       "        vertical-align: top;\n",
       "    }\n",
       "\n",
       "    .dataframe thead th {\n",
       "        text-align: right;\n",
       "    }\n",
       "</style>\n",
       "<table border=\"1\" class=\"dataframe\">\n",
       "  <thead>\n",
       "    <tr style=\"text-align: right;\">\n",
       "      <th></th>\n",
       "      <th>Price</th>\n",
       "      <th>Location</th>\n",
       "      <th>Total_Area</th>\n",
       "      <th>Price_per_SQFT</th>\n",
       "      <th>Baths</th>\n",
       "      <th>Balcony</th>\n",
       "    </tr>\n",
       "  </thead>\n",
       "  <tbody>\n",
       "    <tr>\n",
       "      <th>0</th>\n",
       "      <td>₹1.99 Cr</td>\n",
       "      <td>Kanathur Reddikuppam, Chennai</td>\n",
       "      <td>2583</td>\n",
       "      <td>7700.0</td>\n",
       "      <td>4</td>\n",
       "      <td>Yes</td>\n",
       "    </tr>\n",
       "    <tr>\n",
       "      <th>1</th>\n",
       "      <td>₹2.25 Cr</td>\n",
       "      <td>Ramanathan Nagar, Pozhichalur,Chennai</td>\n",
       "      <td>7000</td>\n",
       "      <td>3210.0</td>\n",
       "      <td>6</td>\n",
       "      <td>Yes</td>\n",
       "    </tr>\n",
       "    <tr>\n",
       "      <th>2</th>\n",
       "      <td>₹1.0 Cr</td>\n",
       "      <td>Kasthuribai Nagar, West Tambaram,Chennai</td>\n",
       "      <td>1320</td>\n",
       "      <td>7580.0</td>\n",
       "      <td>3</td>\n",
       "      <td>No</td>\n",
       "    </tr>\n",
       "    <tr>\n",
       "      <th>3</th>\n",
       "      <td>₹3.33 Cr</td>\n",
       "      <td>Naveenilaya,Chepauk, Triplicane,Chennai</td>\n",
       "      <td>4250</td>\n",
       "      <td>7840.0</td>\n",
       "      <td>5</td>\n",
       "      <td>Yes</td>\n",
       "    </tr>\n",
       "    <tr>\n",
       "      <th>4</th>\n",
       "      <td>₹48.0 L</td>\n",
       "      <td>Avadi, Chennai</td>\n",
       "      <td>960</td>\n",
       "      <td>5000.0</td>\n",
       "      <td>3</td>\n",
       "      <td>Yes</td>\n",
       "    </tr>\n",
       "  </tbody>\n",
       "</table>\n",
       "</div>"
      ],
      "text/plain": [
       "      Price                                  Location  Total_Area  \\\n",
       "0  ₹1.99 Cr             Kanathur Reddikuppam, Chennai        2583   \n",
       "1  ₹2.25 Cr     Ramanathan Nagar, Pozhichalur,Chennai        7000   \n",
       "2   ₹1.0 Cr  Kasthuribai Nagar, West Tambaram,Chennai        1320   \n",
       "3  ₹3.33 Cr   Naveenilaya,Chepauk, Triplicane,Chennai        4250   \n",
       "4   ₹48.0 L                            Avadi, Chennai         960   \n",
       "\n",
       "   Price_per_SQFT  Baths Balcony  \n",
       "0          7700.0      4     Yes  \n",
       "1          3210.0      6     Yes  \n",
       "2          7580.0      3      No  \n",
       "3          7840.0      5     Yes  \n",
       "4          5000.0      3     Yes  "
      ]
     },
     "execution_count": 21,
     "metadata": {},
     "output_type": "execute_result"
    }
   ],
   "source": [
    "df2 = df1.drop(['Name','Property Title','Description'],axis='columns')\n",
    "df2.head()"
   ]
  },
  {
   "cell_type": "code",
   "execution_count": 23,
   "id": "dd8f7565-8b03-474c-92b6-9123cb821b4f",
   "metadata": {},
   "outputs": [
    {
     "data": {
      "text/plain": [
       "Price             0\n",
       "Location          0\n",
       "Total_Area        0\n",
       "Price_per_SQFT    0\n",
       "Baths             0\n",
       "Balcony           0\n",
       "dtype: int64"
      ]
     },
     "execution_count": 23,
     "metadata": {},
     "output_type": "execute_result"
    }
   ],
   "source": [
    "df2.isnull().sum()"
   ]
  },
  {
   "cell_type": "code",
   "execution_count": 30,
   "id": "43549860-bb73-4500-8076-22b905bfdfee",
   "metadata": {},
   "outputs": [
    {
     "data": {
      "text/html": [
       "<div>\n",
       "<style scoped>\n",
       "    .dataframe tbody tr th:only-of-type {\n",
       "        vertical-align: middle;\n",
       "    }\n",
       "\n",
       "    .dataframe tbody tr th {\n",
       "        vertical-align: top;\n",
       "    }\n",
       "\n",
       "    .dataframe thead th {\n",
       "        text-align: right;\n",
       "    }\n",
       "</style>\n",
       "<table border=\"1\" class=\"dataframe\">\n",
       "  <thead>\n",
       "    <tr style=\"text-align: right;\">\n",
       "      <th></th>\n",
       "      <th>Price</th>\n",
       "      <th>Location</th>\n",
       "      <th>Total_Area</th>\n",
       "      <th>Price_per_SQFT</th>\n",
       "      <th>Baths</th>\n",
       "      <th>Balcony</th>\n",
       "      <th>price_unit</th>\n",
       "      <th>calculated_price</th>\n",
       "    </tr>\n",
       "  </thead>\n",
       "  <tbody>\n",
       "    <tr>\n",
       "      <th>0</th>\n",
       "      <td>₹1.99 Cr</td>\n",
       "      <td>Kanathur Reddikuppam, Chennai</td>\n",
       "      <td>2583</td>\n",
       "      <td>7700.0</td>\n",
       "      <td>4</td>\n",
       "      <td>Yes</td>\n",
       "      <td>Cr</td>\n",
       "      <td>19889100.0</td>\n",
       "    </tr>\n",
       "    <tr>\n",
       "      <th>1</th>\n",
       "      <td>₹2.25 Cr</td>\n",
       "      <td>Ramanathan Nagar, Pozhichalur,Chennai</td>\n",
       "      <td>7000</td>\n",
       "      <td>3210.0</td>\n",
       "      <td>6</td>\n",
       "      <td>Yes</td>\n",
       "      <td>Cr</td>\n",
       "      <td>22470000.0</td>\n",
       "    </tr>\n",
       "    <tr>\n",
       "      <th>2</th>\n",
       "      <td>₹1.0 Cr</td>\n",
       "      <td>Kasthuribai Nagar, West Tambaram,Chennai</td>\n",
       "      <td>1320</td>\n",
       "      <td>7580.0</td>\n",
       "      <td>3</td>\n",
       "      <td>No</td>\n",
       "      <td>Cr</td>\n",
       "      <td>10005600.0</td>\n",
       "    </tr>\n",
       "    <tr>\n",
       "      <th>3</th>\n",
       "      <td>₹3.33 Cr</td>\n",
       "      <td>Naveenilaya,Chepauk, Triplicane,Chennai</td>\n",
       "      <td>4250</td>\n",
       "      <td>7840.0</td>\n",
       "      <td>5</td>\n",
       "      <td>Yes</td>\n",
       "      <td>Cr</td>\n",
       "      <td>33320000.0</td>\n",
       "    </tr>\n",
       "    <tr>\n",
       "      <th>4</th>\n",
       "      <td>₹48.0 L</td>\n",
       "      <td>Avadi, Chennai</td>\n",
       "      <td>960</td>\n",
       "      <td>5000.0</td>\n",
       "      <td>3</td>\n",
       "      <td>Yes</td>\n",
       "      <td>L</td>\n",
       "      <td>4800000.0</td>\n",
       "    </tr>\n",
       "  </tbody>\n",
       "</table>\n",
       "</div>"
      ],
      "text/plain": [
       "      Price                                  Location  Total_Area  \\\n",
       "0  ₹1.99 Cr             Kanathur Reddikuppam, Chennai        2583   \n",
       "1  ₹2.25 Cr     Ramanathan Nagar, Pozhichalur,Chennai        7000   \n",
       "2   ₹1.0 Cr  Kasthuribai Nagar, West Tambaram,Chennai        1320   \n",
       "3  ₹3.33 Cr   Naveenilaya,Chepauk, Triplicane,Chennai        4250   \n",
       "4   ₹48.0 L                            Avadi, Chennai         960   \n",
       "\n",
       "   Price_per_SQFT  Baths Balcony price_unit  calculated_price  \n",
       "0          7700.0      4     Yes         Cr        19889100.0  \n",
       "1          3210.0      6     Yes         Cr        22470000.0  \n",
       "2          7580.0      3      No         Cr        10005600.0  \n",
       "3          7840.0      5     Yes         Cr        33320000.0  \n",
       "4          5000.0      3     Yes          L         4800000.0  "
      ]
     },
     "execution_count": 30,
     "metadata": {},
     "output_type": "execute_result"
    }
   ],
   "source": [
    "df2['calculated_price'] = df2['Total_Area']*df2['Price_per_SQFT']\n",
    "df2.head()"
   ]
  },
  {
   "cell_type": "code",
   "execution_count": 27,
   "id": "741da761-ba1e-43a7-94f2-5b9d770622c2",
   "metadata": {},
   "outputs": [
    {
     "data": {
      "text/plain": [
       "array(['Cr', 'L', '₹2.0', 'Lacs', '₹3.0', '₹1.0', '₹55.0k'], dtype=object)"
      ]
     },
     "execution_count": 27,
     "metadata": {},
     "output_type": "execute_result"
    }
   ],
   "source": [
    "df2['price_unit'].unique()"
   ]
  },
  {
   "cell_type": "code",
   "execution_count": 29,
   "id": "bf0ded06-a650-4395-a491-a68ff6a3bf8f",
   "metadata": {},
   "outputs": [
    {
     "data": {
      "text/plain": [
       "19889100"
      ]
     },
     "execution_count": 29,
     "metadata": {},
     "output_type": "execute_result"
    }
   ],
   "source": [
    "2583*7700"
   ]
  },
  {
   "cell_type": "code",
   "execution_count": 33,
   "id": "9b7dc0ce-682d-4738-8018-8841f829f01b",
   "metadata": {},
   "outputs": [
    {
     "data": {
      "text/html": [
       "<div>\n",
       "<style scoped>\n",
       "    .dataframe tbody tr th:only-of-type {\n",
       "        vertical-align: middle;\n",
       "    }\n",
       "\n",
       "    .dataframe tbody tr th {\n",
       "        vertical-align: top;\n",
       "    }\n",
       "\n",
       "    .dataframe thead th {\n",
       "        text-align: right;\n",
       "    }\n",
       "</style>\n",
       "<table border=\"1\" class=\"dataframe\">\n",
       "  <thead>\n",
       "    <tr style=\"text-align: right;\">\n",
       "      <th></th>\n",
       "      <th>Location</th>\n",
       "      <th>Total_Area</th>\n",
       "      <th>Price_per_SQFT</th>\n",
       "      <th>Baths</th>\n",
       "      <th>Balcony</th>\n",
       "      <th>calculated_price</th>\n",
       "    </tr>\n",
       "  </thead>\n",
       "  <tbody>\n",
       "    <tr>\n",
       "      <th>0</th>\n",
       "      <td>Kanathur Reddikuppam, Chennai</td>\n",
       "      <td>2583</td>\n",
       "      <td>7700.0</td>\n",
       "      <td>4</td>\n",
       "      <td>Yes</td>\n",
       "      <td>19889100.0</td>\n",
       "    </tr>\n",
       "    <tr>\n",
       "      <th>1</th>\n",
       "      <td>Ramanathan Nagar, Pozhichalur,Chennai</td>\n",
       "      <td>7000</td>\n",
       "      <td>3210.0</td>\n",
       "      <td>6</td>\n",
       "      <td>Yes</td>\n",
       "      <td>22470000.0</td>\n",
       "    </tr>\n",
       "    <tr>\n",
       "      <th>2</th>\n",
       "      <td>Kasthuribai Nagar, West Tambaram,Chennai</td>\n",
       "      <td>1320</td>\n",
       "      <td>7580.0</td>\n",
       "      <td>3</td>\n",
       "      <td>No</td>\n",
       "      <td>10005600.0</td>\n",
       "    </tr>\n",
       "    <tr>\n",
       "      <th>3</th>\n",
       "      <td>Naveenilaya,Chepauk, Triplicane,Chennai</td>\n",
       "      <td>4250</td>\n",
       "      <td>7840.0</td>\n",
       "      <td>5</td>\n",
       "      <td>Yes</td>\n",
       "      <td>33320000.0</td>\n",
       "    </tr>\n",
       "    <tr>\n",
       "      <th>4</th>\n",
       "      <td>Avadi, Chennai</td>\n",
       "      <td>960</td>\n",
       "      <td>5000.0</td>\n",
       "      <td>3</td>\n",
       "      <td>Yes</td>\n",
       "      <td>4800000.0</td>\n",
       "    </tr>\n",
       "  </tbody>\n",
       "</table>\n",
       "</div>"
      ],
      "text/plain": [
       "                                   Location  Total_Area  Price_per_SQFT  \\\n",
       "0             Kanathur Reddikuppam, Chennai        2583          7700.0   \n",
       "1     Ramanathan Nagar, Pozhichalur,Chennai        7000          3210.0   \n",
       "2  Kasthuribai Nagar, West Tambaram,Chennai        1320          7580.0   \n",
       "3   Naveenilaya,Chepauk, Triplicane,Chennai        4250          7840.0   \n",
       "4                            Avadi, Chennai         960          5000.0   \n",
       "\n",
       "   Baths Balcony  calculated_price  \n",
       "0      4     Yes        19889100.0  \n",
       "1      6     Yes        22470000.0  \n",
       "2      3      No        10005600.0  \n",
       "3      5     Yes        33320000.0  \n",
       "4      3     Yes         4800000.0  "
      ]
     },
     "execution_count": 33,
     "metadata": {},
     "output_type": "execute_result"
    }
   ],
   "source": [
    "df3 = df2.drop(['Price', 'price_unit'], axis='columns')\n",
    "df3.head()"
   ]
  },
  {
   "cell_type": "code",
   "execution_count": 35,
   "id": "24275172-60af-4fa6-af59-67b9b710555b",
   "metadata": {},
   "outputs": [
    {
     "data": {
      "text/plain": [
       "array(['Kanathur Reddikuppam, Chennai',\n",
       "       'Ramanathan Nagar, Pozhichalur,Chennai',\n",
       "       'Kasthuribai Nagar, West Tambaram,Chennai', ...,\n",
       "       'Bulder floor,Jaitpur, New Delhi',\n",
       "       'Krishna Park Extension, Tilak Nagar,New Delhi',\n",
       "       'Lig flat rohini,Sector 16E, Sector 16 Rohini,New Delhi'],\n",
       "      dtype=object)"
      ]
     },
     "execution_count": 35,
     "metadata": {},
     "output_type": "execute_result"
    }
   ],
   "source": [
    "df3['Location'].unique()"
   ]
  },
  {
   "cell_type": "code",
   "execution_count": 36,
   "id": "fcf2037a-d883-4b98-916e-b3c891e865e9",
   "metadata": {},
   "outputs": [
    {
     "data": {
      "text/html": [
       "<div>\n",
       "<style scoped>\n",
       "    .dataframe tbody tr th:only-of-type {\n",
       "        vertical-align: middle;\n",
       "    }\n",
       "\n",
       "    .dataframe tbody tr th {\n",
       "        vertical-align: top;\n",
       "    }\n",
       "\n",
       "    .dataframe thead th {\n",
       "        text-align: right;\n",
       "    }\n",
       "</style>\n",
       "<table border=\"1\" class=\"dataframe\">\n",
       "  <thead>\n",
       "    <tr style=\"text-align: right;\">\n",
       "      <th></th>\n",
       "      <th>Location</th>\n",
       "      <th>Total_Area</th>\n",
       "      <th>Price_per_SQFT</th>\n",
       "      <th>Baths</th>\n",
       "      <th>Balcony</th>\n",
       "      <th>calculated_price</th>\n",
       "      <th>city</th>\n",
       "    </tr>\n",
       "  </thead>\n",
       "  <tbody>\n",
       "    <tr>\n",
       "      <th>0</th>\n",
       "      <td>Kanathur Reddikuppam, Chennai</td>\n",
       "      <td>2583</td>\n",
       "      <td>7700.0</td>\n",
       "      <td>4</td>\n",
       "      <td>Yes</td>\n",
       "      <td>19889100.0</td>\n",
       "      <td>Chennai</td>\n",
       "    </tr>\n",
       "    <tr>\n",
       "      <th>1</th>\n",
       "      <td>Ramanathan Nagar, Pozhichalur,Chennai</td>\n",
       "      <td>7000</td>\n",
       "      <td>3210.0</td>\n",
       "      <td>6</td>\n",
       "      <td>Yes</td>\n",
       "      <td>22470000.0</td>\n",
       "      <td>Chennai</td>\n",
       "    </tr>\n",
       "    <tr>\n",
       "      <th>2</th>\n",
       "      <td>Kasthuribai Nagar, West Tambaram,Chennai</td>\n",
       "      <td>1320</td>\n",
       "      <td>7580.0</td>\n",
       "      <td>3</td>\n",
       "      <td>No</td>\n",
       "      <td>10005600.0</td>\n",
       "      <td>Chennai</td>\n",
       "    </tr>\n",
       "    <tr>\n",
       "      <th>3</th>\n",
       "      <td>Naveenilaya,Chepauk, Triplicane,Chennai</td>\n",
       "      <td>4250</td>\n",
       "      <td>7840.0</td>\n",
       "      <td>5</td>\n",
       "      <td>Yes</td>\n",
       "      <td>33320000.0</td>\n",
       "      <td>Chennai</td>\n",
       "    </tr>\n",
       "    <tr>\n",
       "      <th>4</th>\n",
       "      <td>Avadi, Chennai</td>\n",
       "      <td>960</td>\n",
       "      <td>5000.0</td>\n",
       "      <td>3</td>\n",
       "      <td>Yes</td>\n",
       "      <td>4800000.0</td>\n",
       "      <td>Chennai</td>\n",
       "    </tr>\n",
       "  </tbody>\n",
       "</table>\n",
       "</div>"
      ],
      "text/plain": [
       "                                   Location  Total_Area  Price_per_SQFT  \\\n",
       "0             Kanathur Reddikuppam, Chennai        2583          7700.0   \n",
       "1     Ramanathan Nagar, Pozhichalur,Chennai        7000          3210.0   \n",
       "2  Kasthuribai Nagar, West Tambaram,Chennai        1320          7580.0   \n",
       "3   Naveenilaya,Chepauk, Triplicane,Chennai        4250          7840.0   \n",
       "4                            Avadi, Chennai         960          5000.0   \n",
       "\n",
       "   Baths Balcony  calculated_price      city  \n",
       "0      4     Yes        19889100.0   Chennai  \n",
       "1      6     Yes        22470000.0   Chennai  \n",
       "2      3      No        10005600.0   Chennai  \n",
       "3      5     Yes        33320000.0   Chennai  \n",
       "4      3     Yes         4800000.0   Chennai  "
      ]
     },
     "execution_count": 36,
     "metadata": {},
     "output_type": "execute_result"
    }
   ],
   "source": [
    "df3['city'] = df3['Location'].apply(lambda x: x.split(',')[-1])\n",
    "df3.head()"
   ]
  },
  {
   "cell_type": "code",
   "execution_count": 46,
   "id": "5439130e-38f3-49b6-830d-d20dacbf46e8",
   "metadata": {},
   "outputs": [
    {
     "data": {
      "text/plain": [
       "array(['Chennai', 'Bangalore', 'Hyderabad', 'Mumbai', 'Thane', 'Kolkata',\n",
       "       'Pune', 'New Delhi'], dtype=object)"
      ]
     },
     "execution_count": 46,
     "metadata": {},
     "output_type": "execute_result"
    }
   ],
   "source": [
    "df3['city'] = df3['city'].str.strip()\n",
    "df3['city'].unique()"
   ]
  },
  {
   "cell_type": "code",
   "execution_count": 47,
   "id": "72818056-8fe4-4489-869e-956df0d61b29",
   "metadata": {},
   "outputs": [
    {
     "data": {
      "text/plain": [
       "array([2583, 7000, 1320, ...,  783,  171,  472], dtype=int64)"
      ]
     },
     "execution_count": 47,
     "metadata": {},
     "output_type": "execute_result"
    }
   ],
   "source": [
    "df3['Total_Area'].unique()"
   ]
  },
  {
   "cell_type": "code",
   "execution_count": 49,
   "id": "42993962-7266-412f-b0c9-2392ac5b60bb",
   "metadata": {},
   "outputs": [
    {
     "name": "stdout",
     "output_type": "stream",
     "text": [
      "[4 6 3 5 2 1]\n",
      "['Yes' 'No']\n"
     ]
    }
   ],
   "source": [
    "df3['Price_per_SQFT'].unique()\n",
    "print(df3['Baths'].unique())\n",
    "print(df3['Balcony'].unique())"
   ]
  },
  {
   "cell_type": "code",
   "execution_count": 63,
   "id": "410dc421-d9dd-4694-ad35-d0fd6a507eb7",
   "metadata": {},
   "outputs": [],
   "source": [
    "location_stats = df3.groupby('Location')['Location'].agg('count').sort_values(ascending=False)\n",
    "location_stats_lessthan10 = location_stats[location_stats<10]\n",
    "df3.Location = df3.Location.apply(lambda x: 'Others' if x in location_stats_lessthan10 else x)"
   ]
  },
  {
   "cell_type": "code",
   "execution_count": 64,
   "id": "11060038-0ba7-4cb8-b95b-c507a2eafffa",
   "metadata": {},
   "outputs": [],
   "source": [
    "df4 = df3.copy()"
   ]
  },
  {
   "cell_type": "code",
   "execution_count": 67,
   "id": "4276a2b3-d005-4a44-82f4-b52343cb68de",
   "metadata": {},
   "outputs": [
    {
     "data": {
      "text/plain": [
       "198"
      ]
     },
     "execution_count": 67,
     "metadata": {},
     "output_type": "execute_result"
    }
   ],
   "source": [
    "len(df4['Location'].unique())"
   ]
  },
  {
   "cell_type": "code",
   "execution_count": 69,
   "id": "6727abda-e179-40dd-a748-2a075b8e3a59",
   "metadata": {},
   "outputs": [
    {
     "data": {
      "text/html": [
       "<div>\n",
       "<style scoped>\n",
       "    .dataframe tbody tr th:only-of-type {\n",
       "        vertical-align: middle;\n",
       "    }\n",
       "\n",
       "    .dataframe tbody tr th {\n",
       "        vertical-align: top;\n",
       "    }\n",
       "\n",
       "    .dataframe thead th {\n",
       "        text-align: right;\n",
       "    }\n",
       "</style>\n",
       "<table border=\"1\" class=\"dataframe\">\n",
       "  <thead>\n",
       "    <tr style=\"text-align: right;\">\n",
       "      <th></th>\n",
       "      <th>Location</th>\n",
       "      <th>Total_Area</th>\n",
       "      <th>Price_per_SQFT</th>\n",
       "      <th>Baths</th>\n",
       "      <th>Balcony</th>\n",
       "      <th>calculated_price</th>\n",
       "      <th>city</th>\n",
       "    </tr>\n",
       "  </thead>\n",
       "  <tbody>\n",
       "    <tr>\n",
       "      <th>14523</th>\n",
       "      <td>Others</td>\n",
       "      <td>1053</td>\n",
       "      <td>3800.0</td>\n",
       "      <td>3</td>\n",
       "      <td>Yes</td>\n",
       "      <td>4001400.0</td>\n",
       "      <td>New Delhi</td>\n",
       "    </tr>\n",
       "    <tr>\n",
       "      <th>14524</th>\n",
       "      <td>Others</td>\n",
       "      <td>472</td>\n",
       "      <td>2970.0</td>\n",
       "      <td>2</td>\n",
       "      <td>Yes</td>\n",
       "      <td>1401840.0</td>\n",
       "      <td>New Delhi</td>\n",
       "    </tr>\n",
       "    <tr>\n",
       "      <th>14525</th>\n",
       "      <td>Others</td>\n",
       "      <td>378</td>\n",
       "      <td>7940.0</td>\n",
       "      <td>1</td>\n",
       "      <td>Yes</td>\n",
       "      <td>3001320.0</td>\n",
       "      <td>New Delhi</td>\n",
       "    </tr>\n",
       "    <tr>\n",
       "      <th>14526</th>\n",
       "      <td>Others</td>\n",
       "      <td>700</td>\n",
       "      <td>8570.0</td>\n",
       "      <td>2</td>\n",
       "      <td>Yes</td>\n",
       "      <td>5999000.0</td>\n",
       "      <td>New Delhi</td>\n",
       "    </tr>\n",
       "    <tr>\n",
       "      <th>14527</th>\n",
       "      <td>Others</td>\n",
       "      <td>344</td>\n",
       "      <td>15990.0</td>\n",
       "      <td>1</td>\n",
       "      <td>Yes</td>\n",
       "      <td>5500560.0</td>\n",
       "      <td>New Delhi</td>\n",
       "    </tr>\n",
       "  </tbody>\n",
       "</table>\n",
       "</div>"
      ],
      "text/plain": [
       "      Location  Total_Area  Price_per_SQFT  Baths Balcony  calculated_price  \\\n",
       "14523   Others        1053          3800.0      3     Yes         4001400.0   \n",
       "14524   Others         472          2970.0      2     Yes         1401840.0   \n",
       "14525   Others         378          7940.0      1     Yes         3001320.0   \n",
       "14526   Others         700          8570.0      2     Yes         5999000.0   \n",
       "14527   Others         344         15990.0      1     Yes         5500560.0   \n",
       "\n",
       "            city  \n",
       "14523  New Delhi  \n",
       "14524  New Delhi  \n",
       "14525  New Delhi  \n",
       "14526  New Delhi  \n",
       "14527  New Delhi  "
      ]
     },
     "execution_count": 69,
     "metadata": {},
     "output_type": "execute_result"
    }
   ],
   "source": [
    "df4.tail()"
   ]
  },
  {
   "cell_type": "code",
   "execution_count": 129,
   "id": "dd82b05c-5139-4b70-aecd-7379d11e3b44",
   "metadata": {},
   "outputs": [
    {
     "data": {
      "text/plain": [
       "[<matplotlib.lines.Line2D at 0x1e425c9e220>]"
      ]
     },
     "execution_count": 129,
     "metadata": {},
     "output_type": "execute_result"
    },
    {
     "data": {
      "image/png": "[encoded data removed]",
      "text/plain": [
       "<Figure size 640x480 with 1 Axes>"
      ]
     },
     "metadata": {},
     "output_type": "display_data"
    }
   ],
   "source": [
    "x = []\n",
    "y = []\n",
    "z = []\n",
    "for key,value in df4.groupby('city'):\n",
    "    x.append(value.city.max())\n",
    "    y.append(value.Price_per_SQFT.sum())\n",
    "    \n",
    "z = list(zip(x,y))\n",
    "\n",
    "plt.plot(x[:],y[:]) \n",
    "\n"
   ]
  },
  {
   "cell_type": "code",
   "execution_count": 137,
   "id": "4c27c4d9-98ad-4602-8b0e-aa9bc7c07991",
   "metadata": {},
   "outputs": [
    {
     "data": {
      "text/html": [
       "<div>\n",
       "<style scoped>\n",
       "    .dataframe tbody tr th:only-of-type {\n",
       "        vertical-align: middle;\n",
       "    }\n",
       "\n",
       "    .dataframe tbody tr th {\n",
       "        vertical-align: top;\n",
       "    }\n",
       "\n",
       "    .dataframe thead th {\n",
       "        text-align: right;\n",
       "    }\n",
       "</style>\n",
       "<table border=\"1\" class=\"dataframe\">\n",
       "  <thead>\n",
       "    <tr style=\"text-align: right;\">\n",
       "      <th></th>\n",
       "      <th>Location</th>\n",
       "      <th>Total_Area</th>\n",
       "      <th>Price_per_SQFT</th>\n",
       "      <th>Baths</th>\n",
       "      <th>Balcony</th>\n",
       "      <th>calculated_price</th>\n",
       "      <th>city</th>\n",
       "    </tr>\n",
       "  </thead>\n",
       "  <tbody>\n",
       "    <tr>\n",
       "      <th>4277</th>\n",
       "      <td>Magadi, Bangalore</td>\n",
       "      <td>3000</td>\n",
       "      <td>0.0</td>\n",
       "      <td>5</td>\n",
       "      <td>Yes</td>\n",
       "      <td>0.0</td>\n",
       "      <td>Bangalore</td>\n",
       "    </tr>\n",
       "    <tr>\n",
       "      <th>5856</th>\n",
       "      <td>Others</td>\n",
       "      <td>2800</td>\n",
       "      <td>0.0</td>\n",
       "      <td>4</td>\n",
       "      <td>Yes</td>\n",
       "      <td>0.0</td>\n",
       "      <td>Bangalore</td>\n",
       "    </tr>\n",
       "    <tr>\n",
       "      <th>7948</th>\n",
       "      <td>Others</td>\n",
       "      <td>1800</td>\n",
       "      <td>0.0</td>\n",
       "      <td>3</td>\n",
       "      <td>Yes</td>\n",
       "      <td>0.0</td>\n",
       "      <td>Mumbai</td>\n",
       "    </tr>\n",
       "  </tbody>\n",
       "</table>\n",
       "</div>"
      ],
      "text/plain": [
       "               Location  Total_Area  Price_per_SQFT  Baths Balcony  \\\n",
       "4277  Magadi, Bangalore        3000             0.0      5     Yes   \n",
       "5856             Others        2800             0.0      4     Yes   \n",
       "7948             Others        1800             0.0      3     Yes   \n",
       "\n",
       "      calculated_price       city  \n",
       "4277               0.0  Bangalore  \n",
       "5856               0.0  Bangalore  \n",
       "7948               0.0     Mumbai  "
      ]
     },
     "execution_count": 137,
     "metadata": {},
     "output_type": "execute_result"
    }
   ],
   "source": [
    "df4.Price_per_SQFT.describe()\n",
    "\n",
    "df4.loc[df4['Price_per_SQFT'] == 0]"
   ]
  },
  {
   "cell_type": "code",
   "execution_count": 138,
   "id": "8bc5f06f-852e-4824-989b-263cdebb4978",
   "metadata": {},
   "outputs": [],
   "source": [
    "df5 = df4[~(df4['Price_per_SQFT'] == 0)]"
   ]
  },
  {
   "cell_type": "code",
   "execution_count": 139,
   "id": "95ddbe69-0b84-490d-9a58-fd2725234d7a",
   "metadata": {},
   "outputs": [
    {
     "data": {
      "text/plain": [
       "(14525, 7)"
      ]
     },
     "execution_count": 139,
     "metadata": {},
     "output_type": "execute_result"
    }
   ],
   "source": [
    "df5.shape"
   ]
  },
  {
   "cell_type": "code",
   "execution_count": 140,
   "id": "5f522363-52eb-49c3-b256-2479ec8d5ede",
   "metadata": {},
   "outputs": [
    {
     "data": {
      "text/plain": [
       "(14528, 7)"
      ]
     },
     "execution_count": 140,
     "metadata": {},
     "output_type": "execute_result"
    }
   ],
   "source": [
    "df4.shape"
   ]
  },
  {
   "cell_type": "code",
   "execution_count": 141,
   "id": "b7fd7c9e-ff53-4851-8975-ffaa3faf4594",
   "metadata": {},
   "outputs": [
    {
     "data": {
      "text/plain": [
       "count     14525.000000\n",
       "mean      11721.876764\n",
       "std       49040.843384\n",
       "min        1000.000000\n",
       "25%        4480.000000\n",
       "50%        6060.000000\n",
       "75%        9320.000000\n",
       "max      999000.000000\n",
       "Name: Price_per_SQFT, dtype: float64"
      ]
     },
     "execution_count": 141,
     "metadata": {},
     "output_type": "execute_result"
    }
   ],
   "source": [
    "df5.Price_per_SQFT.describe()"
   ]
  },
  {
   "cell_type": "code",
   "execution_count": null,
   "id": "c57a908f-a32e-4ddb-9b27-7c7d74e3dbfa",
   "metadata": {},
   "outputs": [],
   "source": []
  }
 ],
 "metadata": {
  "kernelspec": {
   "display_name": "Python 3 (ipykernel)",
   "language": "python",
   "name": "python3"
  },
  "language_info": {
   "codemirror_mode": {
    "name": "ipython",
    "version": 3
   },
   "file_extension": ".py",
   "mimetype": "text/x-python",
   "name": "python",
   "nbconvert_exporter": "python",
   "pygments_lexer": "ipython3",
   "version": "3.9.13"
  }
 },
 "nbformat": 4,
 "nbformat_minor": 5
}
